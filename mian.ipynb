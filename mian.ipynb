{
 "cells": [
  {
   "cell_type": "code",
   "execution_count": 52,
   "metadata": {},
   "outputs": [
    {
     "ename": "ImportError",
     "evalue": "cannot import name 'ClassificationModel' from 'models.yolo' (C:\\Users\\Donwiwat/.cache\\torch\\hub\\ultralytics_yolov5_master\\models\\yolo.py)",
     "output_type": "error",
     "traceback": [
      "\u001b[1;31m---------------------------------------------------------------------------\u001b[0m",
      "\u001b[1;31mImportError\u001b[0m                               Traceback (most recent call last)",
      "Cell \u001b[1;32mIn [52], line 2\u001b[0m\n\u001b[0;32m      1\u001b[0m \u001b[39mimport\u001b[39;00m \u001b[39mtorch\u001b[39;00m\n\u001b[1;32m----> 2\u001b[0m model \u001b[39m=\u001b[39m torch\u001b[39m.\u001b[39;49mhub\u001b[39m.\u001b[39;49mload(\u001b[39m'\u001b[39;49m\u001b[39m'\u001b[39;49m,\u001b[39m'\u001b[39;49m\u001b[39mcustom\u001b[39;49m\u001b[39m'\u001b[39;49m ,\u001b[39m'\u001b[39;49m\u001b[39mbest.pt\u001b[39;49m\u001b[39m'\u001b[39;49m, source\u001b[39m=\u001b[39;49m\u001b[39m'\u001b[39;49m\u001b[39mlocal\u001b[39;49m\u001b[39m'\u001b[39;49m)\n\u001b[0;32m      3\u001b[0m \u001b[39m#model = torch.hub.load('.', 'custom', path='/path/to/yolov5/runs/train/exp5/weights/best.pt', source='local') \u001b[39;00m\n\u001b[0;32m      4\u001b[0m \u001b[39m#model = torch.hub.load(\"ultralytics/yolov5\", \"custom\", \"models/best.pt\")\u001b[39;00m\n\u001b[0;32m      5\u001b[0m \u001b[39mimport\u001b[39;00m \u001b[39mnumpy\u001b[39;00m \u001b[39mas\u001b[39;00m \u001b[39mnp\u001b[39;00m\n",
      "File \u001b[1;32mc:\\Users\\Donwiwat\\Desktop\\Project_LaneTrack\\.venv\\lib\\site-packages\\torch\\hub.py:542\u001b[0m, in \u001b[0;36mload\u001b[1;34m(repo_or_dir, model, source, trust_repo, force_reload, verbose, skip_validation, *args, **kwargs)\u001b[0m\n\u001b[0;32m    538\u001b[0m \u001b[39mif\u001b[39;00m source \u001b[39m==\u001b[39m \u001b[39m'\u001b[39m\u001b[39mgithub\u001b[39m\u001b[39m'\u001b[39m:\n\u001b[0;32m    539\u001b[0m     repo_or_dir \u001b[39m=\u001b[39m _get_cache_or_reload(repo_or_dir, force_reload, trust_repo, \u001b[39m\"\u001b[39m\u001b[39mload\u001b[39m\u001b[39m\"\u001b[39m,\n\u001b[0;32m    540\u001b[0m                                        verbose\u001b[39m=\u001b[39mverbose, skip_validation\u001b[39m=\u001b[39mskip_validation)\n\u001b[1;32m--> 542\u001b[0m model \u001b[39m=\u001b[39m _load_local(repo_or_dir, model, \u001b[39m*\u001b[39;49margs, \u001b[39m*\u001b[39;49m\u001b[39m*\u001b[39;49mkwargs)\n\u001b[0;32m    543\u001b[0m \u001b[39mreturn\u001b[39;00m model\n",
      "File \u001b[1;32mc:\\Users\\Donwiwat\\Desktop\\Project_LaneTrack\\.venv\\lib\\site-packages\\torch\\hub.py:572\u001b[0m, in \u001b[0;36m_load_local\u001b[1;34m(hubconf_dir, model, *args, **kwargs)\u001b[0m\n\u001b[0;32m    569\u001b[0m hub_module \u001b[39m=\u001b[39m _import_module(MODULE_HUBCONF, hubconf_path)\n\u001b[0;32m    571\u001b[0m entry \u001b[39m=\u001b[39m _load_entry_from_hubconf(hub_module, model)\n\u001b[1;32m--> 572\u001b[0m model \u001b[39m=\u001b[39m entry(\u001b[39m*\u001b[39;49margs, \u001b[39m*\u001b[39;49m\u001b[39m*\u001b[39;49mkwargs)\n\u001b[0;32m    574\u001b[0m sys\u001b[39m.\u001b[39mpath\u001b[39m.\u001b[39mremove(hubconf_dir)\n\u001b[0;32m    576\u001b[0m \u001b[39mreturn\u001b[39;00m model\n",
      "File \u001b[1;32mc:\\Users\\Donwiwat\\Desktop\\Project_LaneTrack\\hubconf.py:83\u001b[0m, in \u001b[0;36mcustom\u001b[1;34m(path, autoshape, _verbose, device)\u001b[0m\n\u001b[0;32m     81\u001b[0m \u001b[39mdef\u001b[39;00m \u001b[39mcustom\u001b[39m(path\u001b[39m=\u001b[39m\u001b[39m'\u001b[39m\u001b[39mpath/to/model.pt\u001b[39m\u001b[39m'\u001b[39m, autoshape\u001b[39m=\u001b[39m\u001b[39mTrue\u001b[39;00m, _verbose\u001b[39m=\u001b[39m\u001b[39mTrue\u001b[39;00m, device\u001b[39m=\u001b[39m\u001b[39mNone\u001b[39;00m):\n\u001b[0;32m     82\u001b[0m     \u001b[39m# YOLOv5 custom or local model\u001b[39;00m\n\u001b[1;32m---> 83\u001b[0m     \u001b[39mreturn\u001b[39;00m _create(path, autoshape\u001b[39m=\u001b[39;49mautoshape, verbose\u001b[39m=\u001b[39;49m_verbose, device\u001b[39m=\u001b[39;49mdevice)\n",
      "File \u001b[1;32mc:\\Users\\Donwiwat\\Desktop\\Project_LaneTrack\\hubconf.py:35\u001b[0m, in \u001b[0;36m_create\u001b[1;34m(name, pretrained, channels, classes, autoshape, verbose, device)\u001b[0m\n\u001b[0;32m     33\u001b[0m \u001b[39mfrom\u001b[39;00m \u001b[39mmodels\u001b[39;00m\u001b[39m.\u001b[39;00m\u001b[39mcommon\u001b[39;00m \u001b[39mimport\u001b[39;00m AutoShape, DetectMultiBackend\n\u001b[0;32m     34\u001b[0m \u001b[39mfrom\u001b[39;00m \u001b[39mmodels\u001b[39;00m\u001b[39m.\u001b[39;00m\u001b[39mexperimental\u001b[39;00m \u001b[39mimport\u001b[39;00m attempt_load\n\u001b[1;32m---> 35\u001b[0m \u001b[39mfrom\u001b[39;00m \u001b[39mmodels\u001b[39;00m\u001b[39m.\u001b[39;00m\u001b[39myolo\u001b[39;00m \u001b[39mimport\u001b[39;00m ClassificationModel, DetectionModel, SegmentationModel\n\u001b[0;32m     36\u001b[0m \u001b[39mfrom\u001b[39;00m \u001b[39mutils\u001b[39;00m\u001b[39m.\u001b[39;00m\u001b[39mdownloads\u001b[39;00m \u001b[39mimport\u001b[39;00m attempt_download\n\u001b[0;32m     37\u001b[0m \u001b[39mfrom\u001b[39;00m \u001b[39mutils\u001b[39;00m\u001b[39m.\u001b[39;00m\u001b[39mgeneral\u001b[39;00m \u001b[39mimport\u001b[39;00m LOGGER, check_requirements, intersect_dicts, logging\n",
      "\u001b[1;31mImportError\u001b[0m: cannot import name 'ClassificationModel' from 'models.yolo' (C:\\Users\\Donwiwat/.cache\\torch\\hub\\ultralytics_yolov5_master\\models\\yolo.py)"
     ]
    }
   ],
   "source": [
    "import torch\n",
    "model = torch.hub.load('','custom' ,'best.pt', source='local')\n",
    "#model = torch.hub.load('.', 'custom', path='/path/to/yolov5/runs/train/exp5/weights/best.pt', source='local') \n",
    "#model = torch.hub.load(\"ultralytics/yolov5\", \"custom\", \"models/best.pt\")\n",
    "import numpy as np\n",
    "import cv2 as cv\n"
   ]
  },
  {
   "cell_type": "code",
   "execution_count": null,
   "metadata": {},
   "outputs": [],
   "source": [
    "def predic_img(im):\n",
    "# Model\n",
    "    results = model(im)\n",
    "    return(results.pandas().xyxy[0])"
   ]
  },
  {
   "cell_type": "code",
   "execution_count": null,
   "metadata": {},
   "outputs": [],
   "source": [
    "def working_area(im):\n",
    "    cv.rectangle(im,(170,82),(500,258),(100,255,40),3)\n",
    "    return(im)\n",
    "    "
   ]
  },
  {
   "cell_type": "code",
   "execution_count": null,
   "metadata": {},
   "outputs": [],
   "source": [
    "def check_act(x_center,y_center):\n",
    "    if  170<x_center<500 and 82<y_center<258:\n",
    "        values = 'Okay'\n",
    "    else:\n",
    "        values = 'Aleart'\n",
    "    \n",
    "    return(values)\n",
    "    "
   ]
  },
  {
   "cell_type": "code",
   "execution_count": null,
   "metadata": {},
   "outputs": [],
   "source": [
    "import numpy as np\n",
    "import cv2 as cv\n",
    "import pandas as pd\n",
    "cap = cv.VideoCapture(0)\n",
    "while cap.isOpened():\n",
    "    ret, frame = cap.read()\n",
    "    frame = working_area(frame)\n",
    "    pos =  predic_img(frame)\n",
    "    pos = np.array(pos)\n",
    "    for i in pos:\n",
    "        xmin = int(i[0])\n",
    "        ymin = int(i[1])\n",
    "        xmax = int(i[2])\n",
    "        ymax = int(i[3])\n",
    "        center_x,center_y = int((xmax-xmin)/2+xmin) , int((ymax-ymin)/2+ymin)\n",
    "        label = i[6]\n",
    "        conf = i[4] \n",
    "        font = cv.FONT_HERSHEY_SIMPLEX\n",
    "        cv.circle(frame,(center_x,center_y), 10, (0,0,255), -1)\n",
    "        cv.rectangle(frame,(xmin,ymin),(xmax,ymax),(ymax,255,ymin),3)\n",
    "        cv.putText(frame,label,(xmin,ymin),font,0.8,(ymax,255,ymin),2)\n",
    "\n",
    "    if not ret:\n",
    "        print(\"Can't receive frame (stream end?). Exiting ...\")\n",
    "        break\n",
    "    \n",
    "    #check status\n",
    "    check_c = check_act(center_x,center_y)\n",
    "    cv.putText(frame,check_c,(10,10),font,0.8,(ymax,255,ymin),2)\n",
    "    cv.imshow('frame', frame)\n",
    "    if cv.waitKey(1) == ord('q'):\n",
    "        break\n",
    "cap.release()\n",
    "cv.destroyAllWindows()"
   ]
  }
 ],
 "metadata": {
  "kernelspec": {
   "display_name": "Python 3.8.10 ('.venv': venv)",
   "language": "python",
   "name": "python3"
  },
  "language_info": {
   "codemirror_mode": {
    "name": "ipython",
    "version": 3
   },
   "file_extension": ".py",
   "mimetype": "text/x-python",
   "name": "python",
   "nbconvert_exporter": "python",
   "pygments_lexer": "ipython3",
   "version": "3.8.10"
  },
  "orig_nbformat": 4,
  "vscode": {
   "interpreter": {
    "hash": "e51377c56ff2921c45e0653bdb2830b54b3f0065bec4c109f4de6cda8335f605"
   }
  }
 },
 "nbformat": 4,
 "nbformat_minor": 2
}
